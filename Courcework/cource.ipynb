{
 "cells": [
  {
   "cell_type": "markdown",
   "id": "da2e9607",
   "metadata": {},
   "source": [
    "# Курсовая работа по дисциплине Структуры и алгоритмы обработки данных\n",
    "\n",
    "## Выполнила: студентка группы БВТ2105 Макарова Вера\n"
   ]
  },
  {
   "cell_type": "markdown",
   "id": "4a9191bf",
   "metadata": {},
   "source": [
    "Написать программу, которая будет считывать данные из CSV файла, содержащего\n",
    "информацию о продажах товаров в магазине. Данные в файле содержатся в следующем\n",
    "формате:\n",
    "| Номер заказа | Дата заказа | Название товара | Категория товара | Количество продаж | Цена\n",
    "за единицу | Общая стоимость |\n",
    "Необходимо:\n",
    "1. Рассчитать общую выручку магазина.\n",
    "2. Найти товар, который был продан наибольшее количество раз.\n",
    "3. Найти товар, который принес наибольшую выручку.\n",
    "4. Составить отчет, содержащий информацию об общей выручке магазина, количестве\n",
    "проданных единиц каждого товар и доле каждого товара в общей выручке.\n",
    "\n",
    "Для решения задач необходимо использовать структуры данных, такие как массивы и\n",
    "хеш-таблицы, а также различные алгоритмы обработки данных, например, сортировку и поиск.\n",
    "Также необходимо учитывать возможные ошибки ввода-вывода и обрабатывать их в\n",
    "соответствии с требованиями."
   ]
  },
  {
   "cell_type": "code",
   "execution_count": 1,
   "id": "485ad848",
   "metadata": {
    "scrolled": true
   },
   "outputs": [
    {
     "name": "stdout",
     "output_type": "stream",
     "text": [
      "['Номер заказа', 'Дата заказа', 'Название товара', 'Категория товара', 'Количество продаж', 'Цена за единицу', 'Общая стоимость']\n",
      "['4001', '01.02.2022', 'Apple iPhone 14', 'Смартфоны', '500', '89990', '44995000']\n",
      "['4002', '02.04.2022', 'Samsung Galaxy S22 Ultra', 'Смартфоны', '300', '99990', '29997000']\n",
      "['4003', '03.01.2022', 'Игровые приставки', 'Игровые приставки', '200', '59990', '11998000']\n",
      "['4004', '04.02.2022', 'LG OLED TV', 'Телевизоры', '150', '179990', '26998500']\n",
      "['4005', '05.05.2022', 'Apple MacBook Pro 16', 'Ноутбуки', '100', '199990', '19999000']\n",
      "['4006', '06.03.2022', 'Canon EOS R7', 'Фотоаппараты', '50', '249990', '12499500']\n",
      "['4007', '07.06.2022', 'Bose QuietComfort 55', 'Наушники', '100', '34990', '3499000']\n",
      "['4008', '08.05.2022', 'Samsung Galaxy Tab S8', 'Планшеты', '75', '69990', '5249250']\n",
      "['4009', '09.04.2022', 'DJI Mavic 3', 'Дроны', '25', '149990', '3749750']\n",
      "['4010', '10.02.2022', 'Philips Hue Smart Bulbs', 'Умный дом', '500', '2990', '1495000']\n",
      "['5001', '01.01.2022', 'Apple iPad Pro 12.9', 'Планшеты', '200', '89990', '17998000']\n",
      "['5002', '02.02.2022', 'Sony PlayStation 5 Pro', 'Игровые приставки', '100', '59990', '5999000']\n",
      "['5003', '03.10.2022', 'Samsung Galaxy Watch 5', 'Умные часы', '150', '29990', '4498500']\n",
      "['5004', '04.11.2022', 'LG UltraFine', 'Мониторы', '50', '99990', '4999500']\n",
      "['5005', '05.12.2022', 'Canon EOS R8', 'Фотоаппараты', '75', '299990', '22499250']\n",
      "['5006', '06.10.2021', 'Bose SoundLink Revolve+', 'Портативные колонки', '100', '24990', '2499000']\n",
      "['5007', '07.09.2022', 'DJI Ronin 4D', 'Стабилизаторы', '25', '499990', '12499750']\n",
      "['5008', '08.07.2021', 'Samsung Galaxy Book Pro', 'Ноутбуки', '50', '129990', '6499500']\n",
      "['5009', '09.07.2022', 'Philips Sonicare DiamondClean', 'Электрические зубные щетки', '200', '9990', '1998000']\n",
      "['5010', '10.02.2001', 'Nest Learning Thermostat', 'Умный дом', '100', '19990', '1999000']\n"
     ]
    }
   ],
   "source": [
    "#функция считывания файла\n",
    "#более логичная реализация\n",
    "def reader(file):\n",
    "    with open(file=file, mode='r', encoding='utf8') as f:\n",
    "        lines = list()\n",
    "        for line in f:\n",
    "            lines.append(line.strip().split(';'))\n",
    "        return lines\n",
    "lines = reader(file='table.csv')\n",
    "for line in lines:\n",
    "    print(line)"
   ]
  },
  {
   "cell_type": "code",
   "execution_count": 2,
   "id": "8bdfe598",
   "metadata": {
    "scrolled": true
   },
   "outputs": [
    {
     "name": "stdout",
     "output_type": "stream",
     "text": [
      "['Номер заказа', 'Дата заказа', 'Название товара', 'Категория товара', 'Количество продаж', 'Цена за единицу', 'Общая стоимость']\n",
      "['4001', '01.02.2022', 'Apple iPhone 14', 'Смартфоны', '500', '89990', '44995000']\n",
      "['4002', '02.04.2022', 'Samsung Galaxy S22 Ultra', 'Смартфоны', '300', '99990', '29997000']\n",
      "['4003', '03.01.2022', 'Игровые приставки', 'Игровые приставки', '200', '59990', '11998000']\n",
      "['4004', '04.02.2022', 'LG OLED TV', 'Телевизоры', '150', '179990', '26998500']\n",
      "['4005', '05.05.2022', 'Apple MacBook Pro 16', 'Ноутбуки', '100', '199990', '19999000']\n",
      "['4006', '06.03.2022', 'Canon EOS R7', 'Фотоаппараты', '50', '249990', '12499500']\n",
      "['4007', '07.06.2022', 'Bose QuietComfort 55', 'Наушники', '100', '34990', '3499000']\n",
      "['4008', '08.05.2022', 'Samsung Galaxy Tab S8', 'Планшеты', '75', '69990', '5249250']\n",
      "['4009', '09.04.2022', 'DJI Mavic 3', 'Дроны', '25', '149990', '3749750']\n",
      "['4010', '10.02.2022', 'Philips Hue Smart Bulbs', 'Умный дом', '500', '2990', '1495000']\n",
      "['5001', '01.01.2022', 'Apple iPad Pro 12.9', 'Планшеты', '200', '89990', '17998000']\n",
      "['5002', '02.02.2022', 'Sony PlayStation 5 Pro', 'Игровые приставки', '100', '59990', '5999000']\n",
      "['5003', '03.10.2022', 'Samsung Galaxy Watch 5', 'Умные часы', '150', '29990', '4498500']\n",
      "['5004', '04.11.2022', 'LG UltraFine', 'Мониторы', '50', '99990', '4999500']\n",
      "['5005', '05.12.2022', 'Canon EOS R8', 'Фотоаппараты', '75', '299990', '22499250']\n",
      "['5006', '06.10.2021', 'Bose SoundLink Revolve+', 'Портативные колонки', '100', '24990', '2499000']\n",
      "['5007', '07.09.2022', 'DJI Ronin 4D', 'Стабилизаторы', '25', '499990', '12499750']\n",
      "['5008', '08.07.2021', 'Samsung Galaxy Book Pro', 'Ноутбуки', '50', '129990', '6499500']\n",
      "['5009', '09.07.2022', 'Philips Sonicare DiamondClean', 'Электрические зубные щетки', '200', '9990', '1998000']\n"
     ]
    }
   ],
   "source": [
    "#функция считывания файла без использования .strip().split()\n",
    "def _reader(file, sep):\n",
    "    with open(file=file, mode='r', encoding='utf8') as f:\n",
    "        opened = f.read()\n",
    "        line = []\n",
    "        lines = []\n",
    "        start = 0\n",
    "        data_from_csv = dict()\n",
    "        \n",
    "        for i in range(len(opened)):\n",
    "            if opened[i] == sep:\n",
    "                end = i\n",
    "                line.append(opened[start:end])\n",
    "                start = i + 1\n",
    "\n",
    "            if opened[i] == '\\n':\n",
    "                end = i\n",
    "                line.append(opened[start:end])\n",
    "                start = i + 1\n",
    "                lines.append(line)\n",
    "                line = []\n",
    "\n",
    "    return lines\n",
    "_lines = _reader(file='table.csv', sep=';')\n",
    "for line in _lines:\n",
    "    print(line)"
   ]
  },
  {
   "cell_type": "code",
   "execution_count": 3,
   "id": "c31d9c6b",
   "metadata": {},
   "outputs": [],
   "source": [
    "from datetime import datetime\n",
    "class Order:\n",
    "    def __init__(self, data=[]):\n",
    "        if data[0].isdigit():\n",
    "            self.id = data[0]\n",
    "        else:\n",
    "            print(\"Неверный id товара\")\n",
    "            \n",
    "        if datetime.strptime(data[1],\"%d.%m.%Y\"):\n",
    "            self.date = data[1]\n",
    "        else:\n",
    "            print(\"Неверный формат даты\")\n",
    "            \n",
    "        if len(data[2]):\n",
    "            self.name = data[2]\n",
    "        else:\n",
    "            print(\"Неверный формат названия\")\n",
    "            \n",
    "        if len(data[3]):\n",
    "            self.category = data[3]\n",
    "        else:\n",
    "            print(\"Неверный формат категории\")\n",
    "            \n",
    "        if data[4].isdigit():\n",
    "            self.quantity = int(data[4])\n",
    "        else:\n",
    "            print(\"Неверный формат количества продаж\")\n",
    "            \n",
    "        if data[5].isdigit():\n",
    "            self.price = int(data[5])\n",
    "        else:\n",
    "            print(\"Неверный формат цены за единицу\")\n",
    "            \n",
    "        if data[6].isdigit():\n",
    "            if int(data[6]) == int(data[4]) * int(data[5]):\n",
    "                self.fullprice = int(data[6])\n",
    "            else:\n",
    "                print(\"Неверный размер выручки\")\n",
    "        else:\n",
    "            print(\"Неверный формат выручки\")\n",
    "         \n"
   ]
  },
  {
   "cell_type": "markdown",
   "id": "c8f24141",
   "metadata": {},
   "source": [
    "### 1. Рассчитать общую выручку магазина."
   ]
  },
  {
   "cell_type": "code",
   "execution_count": 4,
   "id": "0973e865",
   "metadata": {},
   "outputs": [
    {
     "name": "stdout",
     "output_type": "stream",
     "text": [
      "Общая выручка магазина составляет 241969500 руб.\n"
     ]
    }
   ],
   "source": [
    "def fullPrice(lines):\n",
    "    summary = 0\n",
    "    for line in lines[1:]:\n",
    "        order = Order(line)\n",
    "        summary += order.fullprice\n",
    "    return summary\n",
    "print(f\"Общая выручка магазина составляет {fullPrice(lines)} руб.\")"
   ]
  },
  {
   "cell_type": "markdown",
   "id": "e16fd581",
   "metadata": {},
   "source": [
    "### 2. Найти товар, который был продан наибольшее количество раз."
   ]
  },
  {
   "cell_type": "code",
   "execution_count": 5,
   "id": "ed652819",
   "metadata": {},
   "outputs": [],
   "source": [
    "#Метод цепочек\n",
    "#Метод цепочек - это метод решения коллизий в хэш-таблицах, основанный на \n",
    "#создании связанных списков (цепочек) элементов, которые имеют \n",
    "#одинаковый хэш-код.\n",
    "#создаем класс узла списка\n",
    "class Node:\n",
    "    def __init__(self, key, value):\n",
    "        self.key = key\n",
    "        self.value = value\n",
    "        self.next = None\n",
    "\n",
    "#создаем класс хэш-таблицы\n",
    "class HashTable:\n",
    "    def __init__(self, capacity):\n",
    "        self.capacity = capacity #начальная ёмкость таблицы\n",
    "        self.size = 0 #количество элементов в таблице\n",
    "        self.table = [None] * capacity #создаем пустые списки для каждой ячейки таблицы\n",
    "    \n",
    "    def insert(self, key, value): #добавление элемента\n",
    "        index = hash(key) % self.capacity  # получаем индекс с помощью хеш функции\n",
    "\n",
    "        if self.table[index] is None:  # если элемент хеш таблицы пустой -> создаем ноду\n",
    "            self.table[index] = Node(key, value)\n",
    "            self.size += 1\n",
    "        else:\n",
    "            current = self.table[index] #получаем цепочку элементов по индексу\n",
    "            \n",
    "             # проходим по всем элементам цепочки, пока текущая нода не окажется последней\n",
    "            while current: \n",
    "                if current.key == key:  # если совпали ключи -> обновляем значение и выходим из метода\n",
    "                    current.value = value\n",
    "                    return\n",
    "                current = current.next  # иначе переходим к следующей ноде\n",
    "            #если ключа нет в таблице, добавляем его в начало цепочки\n",
    "            new_node = Node(key, value)  # создаем объект ноды\n",
    "            new_node.next = self.table[index]\n",
    "            self.table[index] = new_node\n",
    "            self.size += 1\n",
    "\n",
    "    def get(self, key):  # Метод получения значения по ключу\n",
    "        index = hash(key) % self.capacity # вычисляем хэш-код ключа и индекс ячейки таблицы\n",
    "        node = self.table[index] # получаем список (цепочку) элементов по индексу\n",
    "        while node: # проходим по всем элементам цепочки\n",
    "            if node.key == key: # если ключ найден, возвращаем его значение\n",
    "                return node.value\n",
    "            node = node.next\n",
    "        # если ключ не найден, возвращаем None\n",
    "        return None"
   ]
  },
  {
   "cell_type": "code",
   "execution_count": 6,
   "id": "cc55dca7",
   "metadata": {},
   "outputs": [
    {
     "name": "stdout",
     "output_type": "stream",
     "text": [
      "Товар Apple iPhone 14 продан в количестве 500 шт.\n",
      "Товар Philips Hue Smart Bulbs продан в количестве 500 шт.\n"
     ]
    }
   ],
   "source": [
    "def selled_max_times(lines):\n",
    "    ht = HashTable(capacity=1024)\n",
    "    most_popular = ['', -1]\n",
    "    for line in lines[1:]:\n",
    "        order = Order(line)\n",
    "        ht.insert(order.name, order.quantity)\n",
    "        quantity = ht.get(order.name)\n",
    "        if quantity > most_popular[1]:\n",
    "            most_popular = [order.name, quantity]\n",
    "        elif quantity == most_popular[1]:\n",
    "            most_popular.append(order.name)\n",
    "            most_popular.append(quantity)\n",
    "    return most_popular\n",
    "\n",
    "ans = selled_max_times(lines)\n",
    "for i in range(len(ans)):\n",
    "    if i % 2 == 0:\n",
    "        print(f\"Товар {ans[i]} продан в количестве {ans[i+1]} шт.\")"
   ]
  },
  {
   "cell_type": "markdown",
   "id": "8f1f5fa8",
   "metadata": {},
   "source": [
    "### 3. Найти товар, который принес наибольшую выручку."
   ]
  },
  {
   "cell_type": "code",
   "execution_count": 7,
   "id": "48ed54a1",
   "metadata": {},
   "outputs": [
    {
     "name": "stdout",
     "output_type": "stream",
     "text": [
      "Товар Apple iPhone 14 принес максимальную выручку в размере 44995000 руб.\n"
     ]
    }
   ],
   "source": [
    "import random\n",
    "\n",
    "def quick_sort(values):\n",
    "    if len(values) > 1:\n",
    "        x = values[random.randint(0, len(values) - 1)] \n",
    "        low = [el for el in values if el < x]\n",
    "        equal = [el for el in values if el == x]\n",
    "        high = [el for el in values if el > x]\n",
    "        values = quick_sort(low) + equal + quick_sort(high)\n",
    "    return values\n",
    "\n",
    "#бинарный поиск\n",
    "#принимает на вход отсортированный массив и элемент, который нужно найти\n",
    "def binary_search(source, target):\n",
    "    low_border = 0 #нижняя граница поиска - первый элемент массива\n",
    "    high_border = len(source) - 1 #верхняя граница - последний элемент\n",
    "    while low_border <= high_border:\n",
    "        middle = (low_border + high_border) // 2 #находим средний элемент\n",
    "        if source[middle][1] == target:  #если средний элемент равен искомому\n",
    "            return source[middle] #возвращаем пару \n",
    "        elif source[middle][1] > target: #если больше искомого\n",
    "            high_border = middle - 1 #ищем элемент в левой половине массива\n",
    "        else: #иначе ищем элемент в правой половине\n",
    "            low_border = middle + 1\n",
    "    return None #если элемент не найден, возвращаем None\n",
    "\n",
    "def max_earning(lines):\n",
    "    products = dict()\n",
    "    for line in lines[1:]:\n",
    "        order = Order(line)\n",
    "        products[order.name] = order.fullprice\n",
    "    values = [i for i in products.values()]\n",
    "    sorted_values = quick_sort(values)\n",
    "    pr_items = [i for i in products.items()]\n",
    "    sorted_items = []\n",
    "    for i in sorted_values:\n",
    "        for j in range(len(pr_items)):\n",
    "            if pr_items[j][1] == i:\n",
    "                sorted_items.append(pr_items[j])\n",
    "    return binary_search(sorted_items, sorted_values[-1])\n",
    "\n",
    "ans = max_earning(lines)\n",
    "print(f\"Товар {ans[0]} принес максимальную выручку в размере {ans[1]} руб.\")"
   ]
  },
  {
   "cell_type": "markdown",
   "id": "4bffb2fa",
   "metadata": {},
   "source": [
    "### 4. Составить отчет, содержащий информацию об общей выручке магазина, количестве\n",
    "### проданных единиц каждого товар и доле каждого товара в общей выручке."
   ]
  },
  {
   "cell_type": "code",
   "execution_count": 8,
   "id": "02c31196",
   "metadata": {},
   "outputs": [
    {
     "name": "stdout",
     "output_type": "stream",
     "text": [
      "Отчет по результатам работы магазина:\n",
      "Общая выручка магазина составляет: 241969500 руб.\n",
      "+-------------------------------+-------------------+--------------------+\n",
      "|        Название товара        | Количество продаж | % от общей выручки |\n",
      "+-------------------------------+-------------------+--------------------+\n",
      "|        Apple iPhone 14        |        500        | 18.595318831505622 |\n",
      "|    Samsung Galaxy S22 Ultra   |        300        | 12.397016979412696 |\n",
      "|       Игровые приставки       |        200        | 4.958476171583609  |\n",
      "|           LG OLED TV          |        150        | 11.15781121174363  |\n",
      "|      Apple MacBook Pro 16     |        100        | 8.265091261501967  |\n",
      "|          Canon EOS R7         |         50        | 5.165733697842083  |\n",
      "|      Bose QuietComfort 55     |        100        | 1.446050018700704  |\n",
      "|     Samsung Galaxy Tab S8     |         75        | 2.169384984471183  |\n",
      "|          DJI Mavic 3          |         25        | 1.5496787818299413 |\n",
      "|    Philips Hue Smart Bulbs    |        500        | 0.6178464641204781 |\n",
      "|      Apple iPad Pro 12.9      |        200        |  7.43812753260225  |\n",
      "|     Sony PlayStation 5 Pro    |        100        | 2.4792380857918044 |\n",
      "|     Samsung Galaxy Watch 5    |        150        | 1.8591186079237259 |\n",
      "|          LG UltraFine         |         50        | 2.0661694965687825 |\n",
      "|          Canon EOS R8         |         75        | 9.298382647399775  |\n",
      "|    Bose SoundLink Revolve+    |        100        | 1.032774791864264  |\n",
      "|          DJI Ronin 4D         |         25        | 5.165837016648792  |\n",
      "|    Samsung Galaxy Book Pro    |         50        | 2.6860823368234423 |\n",
      "| Philips Sonicare DiamondClean |        200        | 0.8257239032192073 |\n",
      "|    Nest Learning Thermostat   |        100        | 0.8261371784460437 |\n",
      "+-------------------------------+-------------------+--------------------+\n"
     ]
    }
   ],
   "source": [
    "from prettytable import PrettyTable\n",
    "\n",
    "def count_share(fullprice, full):\n",
    "    if full == 0:\n",
    "        return 'Выручка не может быть равна 0'\n",
    "    return fullprice / full * 100\n",
    "\n",
    "def create_report(lines):\n",
    "    print('Отчет по результатам работы магазина:')\n",
    "    full = fullPrice(lines)\n",
    "    print(f\"Общая выручка магазина составляет: {full} руб.\")\n",
    "\n",
    "    table = PrettyTable()\n",
    "    table.field_names = ['Название товара', 'Количество продаж', '% от общей выручки']\n",
    "    for line in lines[1:]:\n",
    "        order = Order(line)\n",
    "        table.add_row([order.name, order.quantity, count_share(order.fullprice, full)])\n",
    "\n",
    "    return table\n",
    "print(create_report(lines))"
   ]
  }
 ],
 "metadata": {
  "kernelspec": {
   "display_name": "Python 3 (ipykernel)",
   "language": "python",
   "name": "python3"
  },
  "language_info": {
   "codemirror_mode": {
    "name": "ipython",
    "version": 3
   },
   "file_extension": ".py",
   "mimetype": "text/x-python",
   "name": "python",
   "nbconvert_exporter": "python",
   "pygments_lexer": "ipython3",
   "version": "3.11.1"
  }
 },
 "nbformat": 4,
 "nbformat_minor": 5
}
