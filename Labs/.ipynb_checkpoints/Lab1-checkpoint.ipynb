{
 "cells": [
  {
   "cell_type": "markdown",
   "id": "fifteen-sailing",
   "metadata": {
    "id": "fifteen-sailing"
   },
   "source": [
    "# Лабораторная работа №1\n",
    "## Выполнил студент группы ГРУППА ФИО"
   ]
  },
  {
   "cell_type": "markdown",
   "id": "particular-syndicate",
   "metadata": {
    "id": "particular-syndicate"
   },
   "source": [
    "### Оглавление\n",
    "1. [Задание 1](#Задание-№1)\n",
    "2. [Задание 2](#Задание-№2)\n",
    "3. [Задание 3](#Задание-№3)\n",
    "4. [Вывод](#Вывод)"
   ]
  },
  {
   "cell_type": "markdown",
   "id": "arctic-stocks",
   "metadata": {
    "id": "arctic-stocks"
   },
   "source": [
    "### Задание №1\n",
    "<i> Вызвать функцию print() и передать туда строку Hello, World! </i>"
   ]
  },
  {
   "cell_type": "code",
   "execution_count": null,
   "id": "caring-truck",
   "metadata": {
    "id": "caring-truck",
    "scrolled": true
   },
   "outputs": [],
   "source": []
  },
  {
   "cell_type": "markdown",
   "id": "maritime-conversation",
   "metadata": {
    "id": "maritime-conversation"
   },
   "source": [
    "### Задание №2\n",
    "Написать генератор случайных матриц(многомерных), который принимает\n",
    "опциональные параметры <b>m</b>, <b>n</b>, <b>min_limit</b>, <b>max_limit</b>, где <b>m</b> и <b>n</b> указывают размер\n",
    "матрицы, а <b>min_lim</b> и <b>max_lim</b> - минимальное и максимальное значение для\n",
    "генерируемого числа."
   ]
  },
  {
   "cell_type": "code",
   "execution_count": null,
   "id": "built-contact",
   "metadata": {
    "id": "built-contact"
   },
   "outputs": [],
   "source": [
    "import random\n",
    "import time"
   ]
  },
  {
   "cell_type": "code",
   "execution_count": null,
   "id": "alert-charm",
   "metadata": {
    "id": "alert-charm",
    "outputId": "c95dd9e7-d076-4718-b6fb-25f2e6bc03b9"
   },
   "outputs": [],
   "source": [
    "user_m = input()\n",
    "user_n = input()\n",
    "user_min_limit = input()\n",
    "user_max_limit = input()\n",
    "user_m, user_n, user_min_limit, user_max_limit"
   ]
  },
  {
   "cell_type": "markdown",
   "id": "catholic-roots",
   "metadata": {
    "id": "catholic-roots"
   },
   "source": [
    "### Задание №3\n",
    "Реализовать методы сортировки строк числовой матрицы в соответствии с\n",
    "заданием. Оценить время работы каждого алгоритма сортировки и сравнить его со\n",
    "временем стандартной функции сортировки. Испытания проводить на сгенерированных\n",
    "матрицах. Построить общий график по всем методам."
   ]
  },
  {
   "cell_type": "code",
   "execution_count": null,
   "id": "opposed-creature",
   "metadata": {
    "id": "opposed-creature"
   },
   "outputs": [],
   "source": [
    "import copy"
   ]
  },
  {
   "cell_type": "code",
   "execution_count": null,
   "id": "cleared-anniversary",
   "metadata": {
    "id": "cleared-anniversary",
    "outputId": "b7c76c60-4acb-4c14-9bfb-d4f8d71093a1"
   },
   "outputs": [],
   "source": [
    "# Сортировка выбором.\n",
    "# Берётся срез массива, в котором минимальный элемент переносят в самый левый угол,\n",
    "# после чего срез уменьшается и цикл повторяется.\n",
    "start_time = time.time()\n",
    "#TODO\n",
    "print(\"--- {0} ms ---\".format(round((time.time() - start_time)*1000)))"
   ]
  },
  {
   "cell_type": "code",
   "execution_count": null,
   "id": "roman-silly",
   "metadata": {
    "id": "roman-silly",
    "outputId": "84666b71-fb68-4c07-d27d-e716af29fcbb",
    "scrolled": true
   },
   "outputs": [],
   "source": [
    "# Сортировка вставкой.\n",
    "start_time = time.time()\n",
    "#TODO\n",
    "print(\"--- {0} ms ---\".format(round((time.time() - start_time)*1000)))"
   ]
  },
  {
   "cell_type": "code",
   "execution_count": null,
   "id": "vital-implementation",
   "metadata": {
    "id": "vital-implementation",
    "outputId": "7b648bf5-37a5-4d47-926d-b799f7a23be2"
   },
   "outputs": [],
   "source": [
    "# Сортировка обменом. || Сортировка пузырьком.\n",
    "start_time = time.time()\n",
    "#TODO\n",
    "print(\"--- {0} ms ---\".format(round((time.time() - start_time)*1000)))"
   ]
  },
  {
   "cell_type": "code",
   "execution_count": null,
   "id": "veterinary-glory",
   "metadata": {
    "id": "veterinary-glory",
    "outputId": "9cc2a9ff-ec7a-43de-e4a8-47945d030986"
   },
   "outputs": [],
   "source": [
    "# Сортировка Шелла.\n",
    "start_time = time.time()\n",
    "#TODO\n",
    "print(\"--- {0} ms ---\".format(round((time.time() - start_time)*1000)))"
   ]
  },
  {
   "cell_type": "code",
   "execution_count": null,
   "id": "correct-chaos",
   "metadata": {
    "id": "correct-chaos",
    "outputId": "f4d9aef1-8a2f-46a0-def0-4c9e049f5c77"
   },
   "outputs": [],
   "source": [
    "# Быстрая сортировка.\n",
    "start_time = time.time()\n",
    "#TODO\n",
    "print(\"--- {0} ms ---\".format(round((time.time() - start_time)*1000)))\n",
    "    "
   ]
  },
  {
   "cell_type": "code",
   "execution_count": null,
   "id": "french-czech",
   "metadata": {
    "colab": {
     "base_uri": "https://localhost:8080/",
     "height": 217
    },
    "executionInfo": {
     "elapsed": 433,
     "status": "error",
     "timestamp": 1645638345253,
     "user": {
      "displayName": "Sergey Simonov",
      "photoUrl": "https://lh3.googleusercontent.com/a-/AOh14GhQdeIfzzsg8bfb7DLHaLzEFH8Ebg2FyuaL9YoQyA=s64",
      "userId": "14094206399671235086"
     },
     "user_tz": -180
    },
    "id": "french-czech",
    "outputId": "7e38b779-8bbf-4955-c3ad-2a6be0ee386a"
   },
   "outputs": [],
   "source": [
    "# Турнирная сортировка.\n",
    "start_time = time.time()\n",
    "#TODO\n",
    "print(\"--- {0} ms ---\".format(round((time.time() - start_time)*1000)))"
   ]
  },
  {
   "cell_type": "markdown",
   "id": "rental-jerusalem",
   "metadata": {
    "id": "rental-jerusalem"
   },
   "source": [
    "### Вывод\n"
   ]
  },
  {
   "cell_type": "markdown",
   "id": "9d108a0a",
   "metadata": {
    "id": "9d108a0a"
   },
   "source": []
  }
 ],
 "metadata": {
  "colab": {
   "provenance": []
  },
  "kernelspec": {
   "display_name": "Python 3 (ipykernel)",
   "language": "python",
   "name": "python3"
  },
  "language_info": {
   "codemirror_mode": {
    "name": "ipython",
    "version": 3
   },
   "file_extension": ".py",
   "mimetype": "text/x-python",
   "name": "python",
   "nbconvert_exporter": "python",
   "pygments_lexer": "ipython3",
   "version": "3.10.7"
  }
 },
 "nbformat": 4,
 "nbformat_minor": 5
}
